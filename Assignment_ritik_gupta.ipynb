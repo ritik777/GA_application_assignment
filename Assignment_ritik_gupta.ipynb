{
 "cells": [
  {
   "cell_type": "markdown",
   "metadata": {},
   "source": [
    "# Assignment - Deep Neural Network - Classification"
   ]
  },
  {
   "cell_type": "markdown",
   "metadata": {},
   "source": [
    "In this assignment, you will focus on housing. The data set (housing.csv) includes information about houses in each district in California. Predict the ocean proximity (`ocean_proximity` column) in the data set. This column determines whether the district is inland, near ocean, etc. This is a multi-class classification task. \n",
    "\n",
    "**The unit of analysis is a DISTRICT**\n",
    "\n"
   ]
  },
  {
   "cell_type": "markdown",
   "metadata": {},
   "source": [
    "## Goal\n",
    "\n",
    "Use the **housing.csv** data set and build the below models to predict **ocean_proximity**. "
   ]
  },
  {
   "cell_type": "markdown",
   "metadata": {},
   "source": [
    "## Submission:\n",
    "\n",
    "Please save and submit this Jupyter notebook file. The correctness of the code is important. **Readability and organization of your code is also important.** Do not submit unreadable/undecipherable code. You may want to use markdown cells to create sections, and use comments where necessary.\n"
   ]
  },
  {
   "cell_type": "markdown",
   "metadata": {},
   "source": [
    "# Read and Prepare the Data"
   ]
  },
  {
   "cell_type": "code",
   "execution_count": 1,
   "metadata": {},
   "outputs": [],
   "source": [
    "#importing the libraries\n",
    "import pandas as pd\n",
    "import numpy as np\n",
    "import tensorflow as tf\n",
    "from tensorflow import keras\n",
    "import matplotlib.pyplot as plt"
   ]
  },
  {
   "cell_type": "code",
   "execution_count": 2,
   "metadata": {},
   "outputs": [
    {
     "name": "stdout",
     "output_type": "stream",
     "text": [
      "   longitude  latitude  housing_median_age  total_rooms  total_bedrooms  \\\n",
      "0    -122.23     37.88                  41          880           129.0   \n",
      "1    -122.22     37.86                  21         7099          1106.0   \n",
      "2    -122.24     37.85                  52         1467           190.0   \n",
      "3    -122.25     37.85                  52         1274           235.0   \n",
      "4    -122.25     37.85                  52         1627           280.0   \n",
      "\n",
      "   population  households  median_income  median_house_value ocean_proximity  \n",
      "0         322         126         8.3252              452600        NEAR BAY  \n",
      "1        2401        1138         8.3014              358500        NEAR BAY  \n",
      "2         496         177         7.2574              352100        NEAR BAY  \n",
      "3         558         219         5.6431              341300        NEAR BAY  \n",
      "4         565         259         3.8462              342200        NEAR BAY  \n",
      "Index(['longitude', 'latitude', 'housing_median_age', 'total_rooms',\n",
      "       'total_bedrooms', 'population', 'households', 'median_income',\n",
      "       'median_house_value', 'ocean_proximity'],\n",
      "      dtype='object')\n"
     ]
    },
    {
     "data": {
      "text/html": [
       "<div>\n",
       "<style scoped>\n",
       "    .dataframe tbody tr th:only-of-type {\n",
       "        vertical-align: middle;\n",
       "    }\n",
       "\n",
       "    .dataframe tbody tr th {\n",
       "        vertical-align: top;\n",
       "    }\n",
       "\n",
       "    .dataframe thead th {\n",
       "        text-align: right;\n",
       "    }\n",
       "</style>\n",
       "<table border=\"1\" class=\"dataframe\">\n",
       "  <thead>\n",
       "    <tr style=\"text-align: right;\">\n",
       "      <th></th>\n",
       "      <th>longitude</th>\n",
       "      <th>latitude</th>\n",
       "      <th>housing_median_age</th>\n",
       "      <th>total_rooms</th>\n",
       "      <th>total_bedrooms</th>\n",
       "      <th>population</th>\n",
       "      <th>households</th>\n",
       "      <th>median_income</th>\n",
       "      <th>median_house_value</th>\n",
       "    </tr>\n",
       "  </thead>\n",
       "  <tbody>\n",
       "    <tr>\n",
       "      <th>count</th>\n",
       "      <td>20640.000000</td>\n",
       "      <td>20640.000000</td>\n",
       "      <td>20640.000000</td>\n",
       "      <td>20640.000000</td>\n",
       "      <td>20433.000000</td>\n",
       "      <td>20640.000000</td>\n",
       "      <td>20640.000000</td>\n",
       "      <td>20640.000000</td>\n",
       "      <td>20640.000000</td>\n",
       "    </tr>\n",
       "    <tr>\n",
       "      <th>mean</th>\n",
       "      <td>-119.569704</td>\n",
       "      <td>35.631861</td>\n",
       "      <td>28.639486</td>\n",
       "      <td>2635.763081</td>\n",
       "      <td>537.870553</td>\n",
       "      <td>1425.476744</td>\n",
       "      <td>499.539680</td>\n",
       "      <td>3.870671</td>\n",
       "      <td>206855.816909</td>\n",
       "    </tr>\n",
       "    <tr>\n",
       "      <th>std</th>\n",
       "      <td>2.003532</td>\n",
       "      <td>2.135952</td>\n",
       "      <td>12.585558</td>\n",
       "      <td>2181.615252</td>\n",
       "      <td>421.385070</td>\n",
       "      <td>1132.462122</td>\n",
       "      <td>382.329753</td>\n",
       "      <td>1.899822</td>\n",
       "      <td>115395.615874</td>\n",
       "    </tr>\n",
       "    <tr>\n",
       "      <th>min</th>\n",
       "      <td>-124.350000</td>\n",
       "      <td>32.540000</td>\n",
       "      <td>1.000000</td>\n",
       "      <td>2.000000</td>\n",
       "      <td>1.000000</td>\n",
       "      <td>3.000000</td>\n",
       "      <td>1.000000</td>\n",
       "      <td>0.499900</td>\n",
       "      <td>14999.000000</td>\n",
       "    </tr>\n",
       "    <tr>\n",
       "      <th>25%</th>\n",
       "      <td>-121.800000</td>\n",
       "      <td>33.930000</td>\n",
       "      <td>18.000000</td>\n",
       "      <td>1447.750000</td>\n",
       "      <td>296.000000</td>\n",
       "      <td>787.000000</td>\n",
       "      <td>280.000000</td>\n",
       "      <td>2.563400</td>\n",
       "      <td>119600.000000</td>\n",
       "    </tr>\n",
       "    <tr>\n",
       "      <th>50%</th>\n",
       "      <td>-118.490000</td>\n",
       "      <td>34.260000</td>\n",
       "      <td>29.000000</td>\n",
       "      <td>2127.000000</td>\n",
       "      <td>435.000000</td>\n",
       "      <td>1166.000000</td>\n",
       "      <td>409.000000</td>\n",
       "      <td>3.534800</td>\n",
       "      <td>179700.000000</td>\n",
       "    </tr>\n",
       "    <tr>\n",
       "      <th>75%</th>\n",
       "      <td>-118.010000</td>\n",
       "      <td>37.710000</td>\n",
       "      <td>37.000000</td>\n",
       "      <td>3148.000000</td>\n",
       "      <td>647.000000</td>\n",
       "      <td>1725.000000</td>\n",
       "      <td>605.000000</td>\n",
       "      <td>4.743250</td>\n",
       "      <td>264725.000000</td>\n",
       "    </tr>\n",
       "    <tr>\n",
       "      <th>max</th>\n",
       "      <td>-114.310000</td>\n",
       "      <td>41.950000</td>\n",
       "      <td>52.000000</td>\n",
       "      <td>39320.000000</td>\n",
       "      <td>6445.000000</td>\n",
       "      <td>35682.000000</td>\n",
       "      <td>6082.000000</td>\n",
       "      <td>15.000100</td>\n",
       "      <td>500001.000000</td>\n",
       "    </tr>\n",
       "  </tbody>\n",
       "</table>\n",
       "</div>"
      ],
      "text/plain": [
       "          longitude      latitude  housing_median_age   total_rooms  \\\n",
       "count  20640.000000  20640.000000        20640.000000  20640.000000   \n",
       "mean    -119.569704     35.631861           28.639486   2635.763081   \n",
       "std        2.003532      2.135952           12.585558   2181.615252   \n",
       "min     -124.350000     32.540000            1.000000      2.000000   \n",
       "25%     -121.800000     33.930000           18.000000   1447.750000   \n",
       "50%     -118.490000     34.260000           29.000000   2127.000000   \n",
       "75%     -118.010000     37.710000           37.000000   3148.000000   \n",
       "max     -114.310000     41.950000           52.000000  39320.000000   \n",
       "\n",
       "       total_bedrooms    population    households  median_income  \\\n",
       "count    20433.000000  20640.000000  20640.000000   20640.000000   \n",
       "mean       537.870553   1425.476744    499.539680       3.870671   \n",
       "std        421.385070   1132.462122    382.329753       1.899822   \n",
       "min          1.000000      3.000000      1.000000       0.499900   \n",
       "25%        296.000000    787.000000    280.000000       2.563400   \n",
       "50%        435.000000   1166.000000    409.000000       3.534800   \n",
       "75%        647.000000   1725.000000    605.000000       4.743250   \n",
       "max       6445.000000  35682.000000   6082.000000      15.000100   \n",
       "\n",
       "       median_house_value  \n",
       "count        20640.000000  \n",
       "mean        206855.816909  \n",
       "std         115395.615874  \n",
       "min          14999.000000  \n",
       "25%         119600.000000  \n",
       "50%         179700.000000  \n",
       "75%         264725.000000  \n",
       "max         500001.000000  "
      ]
     },
     "execution_count": 2,
     "metadata": {},
     "output_type": "execute_result"
    }
   ],
   "source": [
    "# Read the data and show the description of the data. \n",
    "housing= pd.read_csv(\"housing.csv\")\n",
    "print(housing.head())\n",
    "print(housing.columns)\n",
    "variable_descriptor = housing.describe()\n",
    "variable_descriptor"
   ]
  },
  {
   "cell_type": "code",
   "execution_count": 3,
   "metadata": {},
   "outputs": [
    {
     "data": {
      "text/html": [
       "<div>\n",
       "<style scoped>\n",
       "    .dataframe tbody tr th:only-of-type {\n",
       "        vertical-align: middle;\n",
       "    }\n",
       "\n",
       "    .dataframe tbody tr th {\n",
       "        vertical-align: top;\n",
       "    }\n",
       "\n",
       "    .dataframe thead th {\n",
       "        text-align: right;\n",
       "    }\n",
       "</style>\n",
       "<table border=\"1\" class=\"dataframe\">\n",
       "  <thead>\n",
       "    <tr style=\"text-align: right;\">\n",
       "      <th></th>\n",
       "      <th>longitude</th>\n",
       "      <th>latitude</th>\n",
       "      <th>housing_median_age</th>\n",
       "      <th>total_rooms</th>\n",
       "      <th>total_bedrooms</th>\n",
       "      <th>population</th>\n",
       "      <th>households</th>\n",
       "      <th>median_income</th>\n",
       "      <th>median_house_value</th>\n",
       "      <th>ocean_proximity</th>\n",
       "    </tr>\n",
       "  </thead>\n",
       "  <tbody>\n",
       "    <tr>\n",
       "      <th>0</th>\n",
       "      <td>-122.23</td>\n",
       "      <td>37.88</td>\n",
       "      <td>41</td>\n",
       "      <td>880</td>\n",
       "      <td>129.0</td>\n",
       "      <td>322</td>\n",
       "      <td>126</td>\n",
       "      <td>8.3252</td>\n",
       "      <td>452600</td>\n",
       "      <td>NEAR BAY</td>\n",
       "    </tr>\n",
       "    <tr>\n",
       "      <th>1</th>\n",
       "      <td>-122.22</td>\n",
       "      <td>37.86</td>\n",
       "      <td>21</td>\n",
       "      <td>7099</td>\n",
       "      <td>1106.0</td>\n",
       "      <td>2401</td>\n",
       "      <td>1138</td>\n",
       "      <td>8.3014</td>\n",
       "      <td>358500</td>\n",
       "      <td>NEAR BAY</td>\n",
       "    </tr>\n",
       "    <tr>\n",
       "      <th>2</th>\n",
       "      <td>-122.24</td>\n",
       "      <td>37.85</td>\n",
       "      <td>52</td>\n",
       "      <td>1467</td>\n",
       "      <td>190.0</td>\n",
       "      <td>496</td>\n",
       "      <td>177</td>\n",
       "      <td>7.2574</td>\n",
       "      <td>352100</td>\n",
       "      <td>NEAR BAY</td>\n",
       "    </tr>\n",
       "    <tr>\n",
       "      <th>3</th>\n",
       "      <td>-122.25</td>\n",
       "      <td>37.85</td>\n",
       "      <td>52</td>\n",
       "      <td>1274</td>\n",
       "      <td>235.0</td>\n",
       "      <td>558</td>\n",
       "      <td>219</td>\n",
       "      <td>5.6431</td>\n",
       "      <td>341300</td>\n",
       "      <td>NEAR BAY</td>\n",
       "    </tr>\n",
       "    <tr>\n",
       "      <th>4</th>\n",
       "      <td>-122.25</td>\n",
       "      <td>37.85</td>\n",
       "      <td>52</td>\n",
       "      <td>1627</td>\n",
       "      <td>280.0</td>\n",
       "      <td>565</td>\n",
       "      <td>259</td>\n",
       "      <td>3.8462</td>\n",
       "      <td>342200</td>\n",
       "      <td>NEAR BAY</td>\n",
       "    </tr>\n",
       "    <tr>\n",
       "      <th>...</th>\n",
       "      <td>...</td>\n",
       "      <td>...</td>\n",
       "      <td>...</td>\n",
       "      <td>...</td>\n",
       "      <td>...</td>\n",
       "      <td>...</td>\n",
       "      <td>...</td>\n",
       "      <td>...</td>\n",
       "      <td>...</td>\n",
       "      <td>...</td>\n",
       "    </tr>\n",
       "    <tr>\n",
       "      <th>20635</th>\n",
       "      <td>-121.09</td>\n",
       "      <td>39.48</td>\n",
       "      <td>25</td>\n",
       "      <td>1665</td>\n",
       "      <td>374.0</td>\n",
       "      <td>845</td>\n",
       "      <td>330</td>\n",
       "      <td>1.5603</td>\n",
       "      <td>78100</td>\n",
       "      <td>INLAND</td>\n",
       "    </tr>\n",
       "    <tr>\n",
       "      <th>20636</th>\n",
       "      <td>-121.21</td>\n",
       "      <td>39.49</td>\n",
       "      <td>18</td>\n",
       "      <td>697</td>\n",
       "      <td>150.0</td>\n",
       "      <td>356</td>\n",
       "      <td>114</td>\n",
       "      <td>2.5568</td>\n",
       "      <td>77100</td>\n",
       "      <td>INLAND</td>\n",
       "    </tr>\n",
       "    <tr>\n",
       "      <th>20637</th>\n",
       "      <td>-121.22</td>\n",
       "      <td>39.43</td>\n",
       "      <td>17</td>\n",
       "      <td>2254</td>\n",
       "      <td>485.0</td>\n",
       "      <td>1007</td>\n",
       "      <td>433</td>\n",
       "      <td>1.7000</td>\n",
       "      <td>92300</td>\n",
       "      <td>INLAND</td>\n",
       "    </tr>\n",
       "    <tr>\n",
       "      <th>20638</th>\n",
       "      <td>-121.32</td>\n",
       "      <td>39.43</td>\n",
       "      <td>18</td>\n",
       "      <td>1860</td>\n",
       "      <td>409.0</td>\n",
       "      <td>741</td>\n",
       "      <td>349</td>\n",
       "      <td>1.8672</td>\n",
       "      <td>84700</td>\n",
       "      <td>INLAND</td>\n",
       "    </tr>\n",
       "    <tr>\n",
       "      <th>20639</th>\n",
       "      <td>-121.24</td>\n",
       "      <td>39.37</td>\n",
       "      <td>16</td>\n",
       "      <td>2785</td>\n",
       "      <td>616.0</td>\n",
       "      <td>1387</td>\n",
       "      <td>530</td>\n",
       "      <td>2.3886</td>\n",
       "      <td>89400</td>\n",
       "      <td>INLAND</td>\n",
       "    </tr>\n",
       "  </tbody>\n",
       "</table>\n",
       "<p>20640 rows × 10 columns</p>\n",
       "</div>"
      ],
      "text/plain": [
       "       longitude  latitude  housing_median_age  total_rooms  total_bedrooms  \\\n",
       "0        -122.23     37.88                  41          880           129.0   \n",
       "1        -122.22     37.86                  21         7099          1106.0   \n",
       "2        -122.24     37.85                  52         1467           190.0   \n",
       "3        -122.25     37.85                  52         1274           235.0   \n",
       "4        -122.25     37.85                  52         1627           280.0   \n",
       "...          ...       ...                 ...          ...             ...   \n",
       "20635    -121.09     39.48                  25         1665           374.0   \n",
       "20636    -121.21     39.49                  18          697           150.0   \n",
       "20637    -121.22     39.43                  17         2254           485.0   \n",
       "20638    -121.32     39.43                  18         1860           409.0   \n",
       "20639    -121.24     39.37                  16         2785           616.0   \n",
       "\n",
       "       population  households  median_income  median_house_value  \\\n",
       "0             322         126         8.3252              452600   \n",
       "1            2401        1138         8.3014              358500   \n",
       "2             496         177         7.2574              352100   \n",
       "3             558         219         5.6431              341300   \n",
       "4             565         259         3.8462              342200   \n",
       "...           ...         ...            ...                 ...   \n",
       "20635         845         330         1.5603               78100   \n",
       "20636         356         114         2.5568               77100   \n",
       "20637        1007         433         1.7000               92300   \n",
       "20638         741         349         1.8672               84700   \n",
       "20639        1387         530         2.3886               89400   \n",
       "\n",
       "      ocean_proximity  \n",
       "0            NEAR BAY  \n",
       "1            NEAR BAY  \n",
       "2            NEAR BAY  \n",
       "3            NEAR BAY  \n",
       "4            NEAR BAY  \n",
       "...               ...  \n",
       "20635          INLAND  \n",
       "20636          INLAND  \n",
       "20637          INLAND  \n",
       "20638          INLAND  \n",
       "20639          INLAND  \n",
       "\n",
       "[20640 rows x 10 columns]"
      ]
     },
     "execution_count": 3,
     "metadata": {},
     "output_type": "execute_result"
    }
   ],
   "source": [
    "#plan to process the data \n",
    "#checking any null values or missing data\n",
    "#checking any duplicate data\n",
    "housing = housing[housing.notnull()]\n",
    "housing = housing[housing.duplicated()==0]\n",
    "housing\n",
    "\n",
    "#its same as before hence no missing or duplicate values"
   ]
  },
  {
   "cell_type": "markdown",
   "metadata": {},
   "source": [
    "# Transform variable(s)\n",
    "\n",
    "Transform at least one variable. For example, you can transform an existing variable (such as using a log transformation), or create a new variable from two existing variables."
   ]
  },
  {
   "cell_type": "markdown",
   "metadata": {},
   "source": [
    "#Plan to transform the data:\n",
    "categorizing median income\n",
    "creating new variables\n",
    "Scaling and encoding of data for model processing\n",
    "splitting training and testing "
   ]
  },
  {
   "cell_type": "code",
   "execution_count": 4,
   "metadata": {},
   "outputs": [
    {
     "data": {
      "text/plain": [
       "array([[<matplotlib.axes._subplots.AxesSubplot object at 0x0000013E259BBC08>,\n",
       "        <matplotlib.axes._subplots.AxesSubplot object at 0x0000013E261D9108>,\n",
       "        <matplotlib.axes._subplots.AxesSubplot object at 0x0000013E26217048>],\n",
       "       [<matplotlib.axes._subplots.AxesSubplot object at 0x0000013E2624F188>,\n",
       "        <matplotlib.axes._subplots.AxesSubplot object at 0x0000013E26288288>,\n",
       "        <matplotlib.axes._subplots.AxesSubplot object at 0x0000013E262C0388>],\n",
       "       [<matplotlib.axes._subplots.AxesSubplot object at 0x0000013E262FCFC8>,\n",
       "        <matplotlib.axes._subplots.AxesSubplot object at 0x0000013E2632F548>,\n",
       "        <matplotlib.axes._subplots.AxesSubplot object at 0x0000013E2633C148>],\n",
       "       [<matplotlib.axes._subplots.AxesSubplot object at 0x0000013E263732C8>,\n",
       "        <matplotlib.axes._subplots.AxesSubplot object at 0x0000013E263D9888>,\n",
       "        <matplotlib.axes._subplots.AxesSubplot object at 0x0000013E2640F988>]],\n",
       "      dtype=object)"
      ]
     },
     "execution_count": 4,
     "metadata": {},
     "output_type": "execute_result"
    },
    {
     "data": {
      "image/png": "[encoded data removed]",
      "text/plain": [
       "<Figure size 720x720 with 12 Axes>"
      ]
     },
     "metadata": {
      "needs_background": "light"
     },
     "output_type": "display_data"
    }
   ],
   "source": [
    "#categorising median income\n",
    "housing[\"median_income\"] = pd.cut(housing[\"median_income\"],\n",
    "                               bins=[0., 1.5, 3.0, 4.5, 6., np.inf],\n",
    "                               labels=[1, 2, 3, 4, 5])\n",
    "\n",
    "\n",
    "# creating new variables , population per household, rooms per household and bedrooms per household\n",
    "housing[\"population_per_household\"]=housing[\"population\"]/housing[\"households\"]\n",
    "housing[\"rooms_per_household\"] = housing[\"total_rooms\"]/housing[\"households\"]\n",
    "housing[\"bedrooms_per_room\"] = housing[\"total_bedrooms\"]/housing[\"total_rooms\"]\n",
    "\n",
    "#checking for log transformation we will draw distributions to see skewness\n",
    "housing.hist(figsize = (10,10))\n",
    "#its safe to assume after looking at the graph that our model wont be impacted by high skewness variables \n",
    "#so I wont perform any log transformation\n",
    "\n"
   ]
  },
  {
   "cell_type": "code",
   "execution_count": null,
   "metadata": {},
   "outputs": [],
   "source": [
    "\n"
   ]
  },
  {
   "cell_type": "code",
   "execution_count": 6,
   "metadata": {},
   "outputs": [
    {
     "name": "stderr",
     "output_type": "stream",
     "text": [
      "C:\\Users\\kitri\\anaconda3\\lib\\site-packages\\sklearn\\preprocessing\\_label.py:251: DataConversionWarning: A column-vector y was passed when a 1d array was expected. Please change the shape of y to (n_samples, ), for example using ravel().\n",
      "  y = column_or_1d(y, warn=True)\n"
     ]
    }
   ],
   "source": [
    "from sklearn.preprocessing import LabelEncoder\n",
    "from sklearn.preprocessing import StandardScaler\n",
    "\n",
    "target = ['ocean_proximity']\n",
    "    \n",
    "# code to filter categorical column\n",
    "categorical_columns = housing.nunique()[housing.nunique()<=6].keys().tolist()\n",
    "categorical_columns = [x for x in categorical_columns if x not in target]\n",
    "\n",
    "#code to filter numerical columns\n",
    "numerical_columns =[x for x in housing.columns if x not in categorical_columns+ target]\n",
    "label_encoder = LabelEncoder()\n",
    "    \n",
    "#category to numerical for efficient model building for target(ocean _proximity)\n",
    "housing[target]= housing[target].astype(str)\n",
    "housing[target]=label_encoder.fit_transform(housing[target])\n",
    "\n",
    "#creating dummy variables for median_income category\n",
    "housing = pd.get_dummies(data=housing, columns= categorical_columns)\n",
    "\n",
    "#Normalizing numerical variables\n",
    "scaler = StandardScaler()\n",
    "scaled_data = scaler.fit_transform(housing[numerical_columns])\n",
    "scaled_data = pd.DataFrame(scaled_data, columns= numerical_columns)\n",
    "\n",
    "#creating a copy and merging numerical with categorical transformation variable\n",
    "housing_copy = housing.copy()\n",
    "housing = housing.drop(columns= numerical_columns, axis=1)\n",
    "housing= housing.merge(scaled_data,left_index= True, right_index = True,how=\"left\")\n"
   ]
  },
  {
   "cell_type": "markdown",
   "metadata": {},
   "source": [
    "#train test split"
   ]
  },
  {
   "cell_type": "code",
   "execution_count": 41,
   "metadata": {},
   "outputs": [],
   "source": [
    "from sklearn.model_selection import StratifiedShuffleSplit\n",
    "from sklearn.model_selection import train_test_split\n",
    "\n",
    "train,test = train_test_split(housing, test_size=0.25,random_state=42)\n",
    "\n",
    "columns =[i for i in housing.columns if i not in target]\n",
    "train_x = train[columns]\n",
    "train_y = train[target]\n",
    "test_x = test[columns]\n",
    "test_y = test[target]"
   ]
  },
  {
   "cell_type": "markdown",
   "metadata": {},
   "source": [
    "# DNNClassifier model\n",
    "\n",
    "Use Tensorflow's DNNClassifier to predict the target variable. You can try deep networks."
   ]
  },
  {
   "cell_type": "code",
   "execution_count": null,
   "metadata": {},
   "outputs": [],
   "source": [
    "feat_longitude = tf.compat.v1.feature_column.numeric_column('longitude')\n",
    "feat_median_income_1 = tf.compat.v1.feature_column.numeric_column('median_income_1')\n",
    "feat_median_income_2 = tf.compat.v1.feature_column.numeric_column('median_income_2') \n",
    "feat_median_income_3 = tf.compat.v1.feature_column.numeric_column('median_income_3') \n",
    "feat_median_income_4 = tf.compat.v1.feature_column.numeric_column('median_income_4') \n",
    "feat_median_income_5 = tf.compat.v1.feature_column.numeric_column('median_income_5') \n",
    "feat_latitude = tf.compat.v1.feature_column.numeric_column('latitude')\n",
    "feat_housing_median_age = tf.compat.v1.feature_column.numeric_column('housing_median_age')\n",
    "feat_total_rooms = tf.compat.v1.feature_column.numeric_column('total_rooms')\n",
    "feat_total_bedrooms = tf.compat.v1.feature_column.numeric_column('total_bedrooms')\n",
    "feat_population = tf.compat.v1.feature_column.numeric_column('population')\n",
    "feat_households = tf.compat.v1.feature_column.numeric_column('households')\n",
    "feat_median_house_value = tf.compat.v1.feature_column.numeric_column('median_house_value')\n",
    "feat_population_per_household = tf.compat.v1.feature_column.numeric_column('population_per_household')\n",
    "feat_rooms_per_household = tf.compat.v1.feature_column.numeric_column('rooms_per_household')\n",
    "feat_bedrooms_per_room = tf.compat.v1.feature_column.numeric_column('bedrooms_per_room')\n",
    "\n",
    "feature_columns = [feat_longitude,\n",
    "feat_median_income_1,\n",
    "feat_median_income_2, \n",
    "feat_median_income_3,\n",
    "feat_median_income_4, \n",
    "feat_median_income_5,\n",
    "feat_latitude,\n",
    "feat_housing_median_age,\n",
    "feat_total_rooms,\n",
    "feat_total_bedrooms,\n",
    "feat_households,\n",
    "feat_median_house_value,\n",
    "feat_population_per_household,\n",
    "feat_rooms_per_household,\n",
    "feat_bedrooms_per_room]"
   ]
  },
  {
   "cell_type": "code",
   "execution_count": 42,
   "metadata": {},
   "outputs": [],
   "source": [
    "input_func = tf.compat.v1.estimator.inputs.pandas_input_fn(train_x,\n",
    "                                                 train_y,\n",
    "                                                 batch_size= 50,\n",
    "                                                 num_epochs=1000,\n",
    "                                                 shuffle=True)\n",
    "\n",
    "eval_func =tf.compat.v1.estimator.inputs.pandas_input_fn(test_x,\n",
    "                                                 test_y,\n",
    "                                                 batch_size= 50,\n",
    "                                                 num_epochs=1,\n",
    "                                                 shuffle=False)\n",
    "\n",
    "predict_input_fn = tf.compat.v1.estimator.inputs.pandas_input_fn(x = test_x,\n",
    "                                                 num_epochs=1,\n",
    "                                                 shuffle=False)"
   ]
  },
  {
   "cell_type": "code",
   "execution_count": 48,
   "metadata": {},
   "outputs": [
    {
     "name": "stdout",
     "output_type": "stream",
     "text": [
      "INFO:tensorflow:Using default config.\n",
      "WARNING:tensorflow:Using temporary folder as model directory: C:\\Users\\kitri\\AppData\\Local\\Temp\\tmpo8eaupc_\n",
      "INFO:tensorflow:Using config: {'_model_dir': 'C:\\\\Users\\\\kitri\\\\AppData\\\\Local\\\\Temp\\\\tmpo8eaupc_', '_tf_random_seed': None, '_save_summary_steps': 100, '_save_checkpoints_steps': None, '_save_checkpoints_secs': 600, '_session_config': allow_soft_placement: true\n",
      "graph_options {\n",
      "  rewrite_options {\n",
      "    meta_optimizer_iterations: ONE\n",
      "  }\n",
      "}\n",
      ", '_keep_checkpoint_max': 5, '_keep_checkpoint_every_n_hours': 10000, '_log_step_count_steps': 100, '_train_distribute': None, '_device_fn': None, '_protocol': None, '_eval_distribute': None, '_experimental_distribute': None, '_experimental_max_worker_delay_secs': None, '_session_creation_timeout_secs': 7200, '_service': None, '_cluster_spec': ClusterSpec({}), '_task_type': 'worker', '_task_id': 0, '_global_id_in_cluster': 0, '_master': '', '_evaluation_master': '', '_is_chief': True, '_num_ps_replicas': 0, '_num_worker_replicas': 1}\n"
     ]
    }
   ],
   "source": [
    "dnnmodel = tf.estimator.DNNClassifier(hidden_units = [20,20],\n",
    "                                     feature_columns = feature_columns,\n",
    "                                     n_classes = 5 ,\n",
    "                                     activation_fn = tf.nn.softmax ,\n",
    "                                     dropout = None,\n",
    "                                    optimizer=lambda: tf.keras.optimizers.Adam(learning_rate=tf.compat.v1.train.exponential_decay(\n",
    "                                                                                learning_rate=0.1,\n",
    "                                                                                global_step=tf.compat.v1.train.get_global_step(),\n",
    "                                                                                decay_steps=10000,\n",
    "                                                                                decay_rate=0.96))\n",
    "                                                                                )\n"
   ]
  },
  {
   "cell_type": "code",
   "execution_count": 50,
   "metadata": {},
   "outputs": [
    {
     "name": "stdout",
     "output_type": "stream",
     "text": [
      "INFO:tensorflow:Calling model_fn.\n",
      "WARNING:tensorflow:Layer dnn is casting an input tensor from dtype float64 to the layer's dtype of float32, which is new behavior in TensorFlow 2.  The layer has dtype float32 because it's dtype defaults to floatx.\n",
      "\n",
      "If you intended to run this layer in float32, you can safely ignore this warning. If in doubt, this warning is likely only an issue if you are porting a TensorFlow 1.X model to TensorFlow 2.\n",
      "\n",
      "To change all layers to have dtype float64 by default, call `tf.keras.backend.set_floatx('float64')`. To change just this layer, pass dtype='float64' to the layer constructor. If you are the author of this layer, you can disable autocasting by passing autocast=False to the base Layer constructor.\n",
      "\n"
     ]
    },
    {
     "ename": "TypeError",
     "evalue": "Expected any non-tensor type, got a tensor instead.",
     "output_type": "error",
     "traceback": [
      "\u001b[1;31m---------------------------------------------------------------------------\u001b[0m",
      "\u001b[1;31mValueError\u001b[0m                                Traceback (most recent call last)",
      "\u001b[1;32m~\\anaconda3\\lib\\site-packages\\tensorflow\\python\\framework\\tensor_util.py\u001b[0m in \u001b[0;36m_AssertCompatible\u001b[1;34m(values, dtype)\u001b[0m\n\u001b[0;32m    323\u001b[0m   \u001b[1;32mtry\u001b[0m\u001b[1;33m:\u001b[0m\u001b[1;33m\u001b[0m\u001b[1;33m\u001b[0m\u001b[0m\n\u001b[1;32m--> 324\u001b[1;33m     \u001b[0mfn\u001b[0m\u001b[1;33m(\u001b[0m\u001b[0mvalues\u001b[0m\u001b[1;33m)\u001b[0m\u001b[1;33m\u001b[0m\u001b[1;33m\u001b[0m\u001b[0m\n\u001b[0m\u001b[0;32m    325\u001b[0m   \u001b[1;32mexcept\u001b[0m \u001b[0mValueError\u001b[0m \u001b[1;32mas\u001b[0m \u001b[0me\u001b[0m\u001b[1;33m:\u001b[0m\u001b[1;33m\u001b[0m\u001b[1;33m\u001b[0m\u001b[0m\n",
      "\u001b[1;32m~\\anaconda3\\lib\\site-packages\\tensorflow\\python\\framework\\tensor_util.py\u001b[0m in \u001b[0;36m_check_not_tensor\u001b[1;34m(values)\u001b[0m\n\u001b[0;32m    275\u001b[0m \u001b[1;32mdef\u001b[0m \u001b[0m_check_not_tensor\u001b[0m\u001b[1;33m(\u001b[0m\u001b[0mvalues\u001b[0m\u001b[1;33m)\u001b[0m\u001b[1;33m:\u001b[0m\u001b[1;33m\u001b[0m\u001b[1;33m\u001b[0m\u001b[0m\n\u001b[1;32m--> 276\u001b[1;33m   _ = [_check_failed(v) for v in nest.flatten(values)\n\u001b[0m\u001b[0;32m    277\u001b[0m        if isinstance(v, ops.Tensor)]\n",
      "\u001b[1;32m~\\anaconda3\\lib\\site-packages\\tensorflow\\python\\framework\\tensor_util.py\u001b[0m in \u001b[0;36m<listcomp>\u001b[1;34m(.0)\u001b[0m\n\u001b[0;32m    276\u001b[0m   _ = [_check_failed(v) for v in nest.flatten(values)\n\u001b[1;32m--> 277\u001b[1;33m        if isinstance(v, ops.Tensor)]\n\u001b[0m\u001b[0;32m    278\u001b[0m \u001b[1;31m# pylint: enable=invalid-name\u001b[0m\u001b[1;33m\u001b[0m\u001b[1;33m\u001b[0m\u001b[1;33m\u001b[0m\u001b[0m\n",
      "\u001b[1;32m~\\anaconda3\\lib\\site-packages\\tensorflow\\python\\framework\\tensor_util.py\u001b[0m in \u001b[0;36m_check_failed\u001b[1;34m(v)\u001b[0m\n\u001b[0;32m    247\u001b[0m   \u001b[1;31m# it is safe to use here.\u001b[0m\u001b[1;33m\u001b[0m\u001b[1;33m\u001b[0m\u001b[1;33m\u001b[0m\u001b[0m\n\u001b[1;32m--> 248\u001b[1;33m   \u001b[1;32mraise\u001b[0m \u001b[0mValueError\u001b[0m\u001b[1;33m(\u001b[0m\u001b[0mv\u001b[0m\u001b[1;33m)\u001b[0m\u001b[1;33m\u001b[0m\u001b[1;33m\u001b[0m\u001b[0m\n\u001b[0m\u001b[0;32m    249\u001b[0m \u001b[1;33m\u001b[0m\u001b[0m\n",
      "\u001b[1;31mValueError\u001b[0m: Tensor(\"random_shuffle_queue_DequeueUpTo:17\", shape=(None,), dtype=int32, device=/device:CPU:0)",
      "\nDuring handling of the above exception, another exception occurred:\n",
      "\u001b[1;31mTypeError\u001b[0m                                 Traceback (most recent call last)",
      "\u001b[1;32m<ipython-input-50-2cf6fe559587>\u001b[0m in \u001b[0;36m<module>\u001b[1;34m\u001b[0m\n\u001b[1;32m----> 1\u001b[1;33m \u001b[0mhistory\u001b[0m \u001b[1;33m=\u001b[0m\u001b[0mdnnmodel\u001b[0m\u001b[1;33m.\u001b[0m\u001b[0mtrain\u001b[0m\u001b[1;33m(\u001b[0m\u001b[0minput_fn\u001b[0m\u001b[1;33m=\u001b[0m\u001b[0minput_func\u001b[0m\u001b[1;33m,\u001b[0m \u001b[0msteps\u001b[0m\u001b[1;33m=\u001b[0m\u001b[1;36m500\u001b[0m\u001b[1;33m)\u001b[0m\u001b[1;33m\u001b[0m\u001b[1;33m\u001b[0m\u001b[0m\n\u001b[0m",
      "\u001b[1;32m~\\anaconda3\\lib\\site-packages\\tensorflow_estimator\\python\\estimator\\estimator.py\u001b[0m in \u001b[0;36mtrain\u001b[1;34m(self, input_fn, hooks, steps, max_steps, saving_listeners)\u001b[0m\n\u001b[0;32m    347\u001b[0m \u001b[1;33m\u001b[0m\u001b[0m\n\u001b[0;32m    348\u001b[0m       \u001b[0msaving_listeners\u001b[0m \u001b[1;33m=\u001b[0m \u001b[0m_check_listeners_type\u001b[0m\u001b[1;33m(\u001b[0m\u001b[0msaving_listeners\u001b[0m\u001b[1;33m)\u001b[0m\u001b[1;33m\u001b[0m\u001b[1;33m\u001b[0m\u001b[0m\n\u001b[1;32m--> 349\u001b[1;33m       \u001b[0mloss\u001b[0m \u001b[1;33m=\u001b[0m \u001b[0mself\u001b[0m\u001b[1;33m.\u001b[0m\u001b[0m_train_model\u001b[0m\u001b[1;33m(\u001b[0m\u001b[0minput_fn\u001b[0m\u001b[1;33m,\u001b[0m \u001b[0mhooks\u001b[0m\u001b[1;33m,\u001b[0m \u001b[0msaving_listeners\u001b[0m\u001b[1;33m)\u001b[0m\u001b[1;33m\u001b[0m\u001b[1;33m\u001b[0m\u001b[0m\n\u001b[0m\u001b[0;32m    350\u001b[0m       \u001b[0mlogging\u001b[0m\u001b[1;33m.\u001b[0m\u001b[0minfo\u001b[0m\u001b[1;33m(\u001b[0m\u001b[1;34m'Loss for final step: %s.'\u001b[0m\u001b[1;33m,\u001b[0m \u001b[0mloss\u001b[0m\u001b[1;33m)\u001b[0m\u001b[1;33m\u001b[0m\u001b[1;33m\u001b[0m\u001b[0m\n\u001b[0;32m    351\u001b[0m       \u001b[1;32mreturn\u001b[0m \u001b[0mself\u001b[0m\u001b[1;33m\u001b[0m\u001b[1;33m\u001b[0m\u001b[0m\n",
      "\u001b[1;32m~\\anaconda3\\lib\\site-packages\\tensorflow_estimator\\python\\estimator\\estimator.py\u001b[0m in \u001b[0;36m_train_model\u001b[1;34m(self, input_fn, hooks, saving_listeners)\u001b[0m\n\u001b[0;32m   1180\u001b[0m       \u001b[1;32mreturn\u001b[0m \u001b[0mself\u001b[0m\u001b[1;33m.\u001b[0m\u001b[0m_train_model_distributed\u001b[0m\u001b[1;33m(\u001b[0m\u001b[0minput_fn\u001b[0m\u001b[1;33m,\u001b[0m \u001b[0mhooks\u001b[0m\u001b[1;33m,\u001b[0m \u001b[0msaving_listeners\u001b[0m\u001b[1;33m)\u001b[0m\u001b[1;33m\u001b[0m\u001b[1;33m\u001b[0m\u001b[0m\n\u001b[0;32m   1181\u001b[0m     \u001b[1;32melse\u001b[0m\u001b[1;33m:\u001b[0m\u001b[1;33m\u001b[0m\u001b[1;33m\u001b[0m\u001b[0m\n\u001b[1;32m-> 1182\u001b[1;33m       \u001b[1;32mreturn\u001b[0m \u001b[0mself\u001b[0m\u001b[1;33m.\u001b[0m\u001b[0m_train_model_default\u001b[0m\u001b[1;33m(\u001b[0m\u001b[0minput_fn\u001b[0m\u001b[1;33m,\u001b[0m \u001b[0mhooks\u001b[0m\u001b[1;33m,\u001b[0m \u001b[0msaving_listeners\u001b[0m\u001b[1;33m)\u001b[0m\u001b[1;33m\u001b[0m\u001b[1;33m\u001b[0m\u001b[0m\n\u001b[0m\u001b[0;32m   1183\u001b[0m \u001b[1;33m\u001b[0m\u001b[0m\n\u001b[0;32m   1184\u001b[0m   \u001b[1;32mdef\u001b[0m \u001b[0m_train_model_default\u001b[0m\u001b[1;33m(\u001b[0m\u001b[0mself\u001b[0m\u001b[1;33m,\u001b[0m \u001b[0minput_fn\u001b[0m\u001b[1;33m,\u001b[0m \u001b[0mhooks\u001b[0m\u001b[1;33m,\u001b[0m \u001b[0msaving_listeners\u001b[0m\u001b[1;33m)\u001b[0m\u001b[1;33m:\u001b[0m\u001b[1;33m\u001b[0m\u001b[1;33m\u001b[0m\u001b[0m\n",
      "\u001b[1;32m~\\anaconda3\\lib\\site-packages\\tensorflow_estimator\\python\\estimator\\estimator.py\u001b[0m in \u001b[0;36m_train_model_default\u001b[1;34m(self, input_fn, hooks, saving_listeners)\u001b[0m\n\u001b[0;32m   1209\u001b[0m       \u001b[0mworker_hooks\u001b[0m\u001b[1;33m.\u001b[0m\u001b[0mextend\u001b[0m\u001b[1;33m(\u001b[0m\u001b[0minput_hooks\u001b[0m\u001b[1;33m)\u001b[0m\u001b[1;33m\u001b[0m\u001b[1;33m\u001b[0m\u001b[0m\n\u001b[0;32m   1210\u001b[0m       estimator_spec = self._call_model_fn(features, labels, ModeKeys.TRAIN,\n\u001b[1;32m-> 1211\u001b[1;33m                                            self.config)\n\u001b[0m\u001b[0;32m   1212\u001b[0m       \u001b[0mglobal_step_tensor\u001b[0m \u001b[1;33m=\u001b[0m \u001b[0mtf\u001b[0m\u001b[1;33m.\u001b[0m\u001b[0mcompat\u001b[0m\u001b[1;33m.\u001b[0m\u001b[0mv1\u001b[0m\u001b[1;33m.\u001b[0m\u001b[0mtrain\u001b[0m\u001b[1;33m.\u001b[0m\u001b[0mget_global_step\u001b[0m\u001b[1;33m(\u001b[0m\u001b[0mg\u001b[0m\u001b[1;33m)\u001b[0m\u001b[1;33m\u001b[0m\u001b[1;33m\u001b[0m\u001b[0m\n\u001b[0;32m   1213\u001b[0m       return self._train_with_estimator_spec(estimator_spec, worker_hooks,\n",
      "\u001b[1;32m~\\anaconda3\\lib\\site-packages\\tensorflow_estimator\\python\\estimator\\estimator.py\u001b[0m in \u001b[0;36m_call_model_fn\u001b[1;34m(self, features, labels, mode, config)\u001b[0m\n\u001b[0;32m   1168\u001b[0m \u001b[1;33m\u001b[0m\u001b[0m\n\u001b[0;32m   1169\u001b[0m     \u001b[0mlogging\u001b[0m\u001b[1;33m.\u001b[0m\u001b[0minfo\u001b[0m\u001b[1;33m(\u001b[0m\u001b[1;34m'Calling model_fn.'\u001b[0m\u001b[1;33m)\u001b[0m\u001b[1;33m\u001b[0m\u001b[1;33m\u001b[0m\u001b[0m\n\u001b[1;32m-> 1170\u001b[1;33m     \u001b[0mmodel_fn_results\u001b[0m \u001b[1;33m=\u001b[0m \u001b[0mself\u001b[0m\u001b[1;33m.\u001b[0m\u001b[0m_model_fn\u001b[0m\u001b[1;33m(\u001b[0m\u001b[0mfeatures\u001b[0m\u001b[1;33m=\u001b[0m\u001b[0mfeatures\u001b[0m\u001b[1;33m,\u001b[0m \u001b[1;33m**\u001b[0m\u001b[0mkwargs\u001b[0m\u001b[1;33m)\u001b[0m\u001b[1;33m\u001b[0m\u001b[1;33m\u001b[0m\u001b[0m\n\u001b[0m\u001b[0;32m   1171\u001b[0m     \u001b[0mlogging\u001b[0m\u001b[1;33m.\u001b[0m\u001b[0minfo\u001b[0m\u001b[1;33m(\u001b[0m\u001b[1;34m'Done calling model_fn.'\u001b[0m\u001b[1;33m)\u001b[0m\u001b[1;33m\u001b[0m\u001b[1;33m\u001b[0m\u001b[0m\n\u001b[0;32m   1172\u001b[0m \u001b[1;33m\u001b[0m\u001b[0m\n",
      "\u001b[1;32m~\\anaconda3\\lib\\site-packages\\tensorflow_estimator\\python\\estimator\\canned\\dnn.py\u001b[0m in \u001b[0;36m_model_fn\u001b[1;34m(features, labels, mode, config)\u001b[0m\n\u001b[0;32m    755\u001b[0m           \u001b[0mdropout\u001b[0m\u001b[1;33m=\u001b[0m\u001b[0mdropout\u001b[0m\u001b[1;33m,\u001b[0m\u001b[1;33m\u001b[0m\u001b[1;33m\u001b[0m\u001b[0m\n\u001b[0;32m    756\u001b[0m           \u001b[0mconfig\u001b[0m\u001b[1;33m=\u001b[0m\u001b[0mconfig\u001b[0m\u001b[1;33m,\u001b[0m\u001b[1;33m\u001b[0m\u001b[1;33m\u001b[0m\u001b[0m\n\u001b[1;32m--> 757\u001b[1;33m           batch_norm=batch_norm)\n\u001b[0m\u001b[0;32m    758\u001b[0m \u001b[1;33m\u001b[0m\u001b[0m\n\u001b[0;32m    759\u001b[0m     super(DNNClassifierV2, self).__init__(\n",
      "\u001b[1;32m~\\anaconda3\\lib\\site-packages\\tensorflow_estimator\\python\\estimator\\canned\\dnn.py\u001b[0m in \u001b[0;36mdnn_model_fn_v2\u001b[1;34m(***failed resolving arguments***)\u001b[0m\n\u001b[0;32m    584\u001b[0m       \u001b[0mlogits\u001b[0m\u001b[1;33m=\u001b[0m\u001b[0mlogits\u001b[0m\u001b[1;33m,\u001b[0m\u001b[1;33m\u001b[0m\u001b[1;33m\u001b[0m\u001b[0m\n\u001b[0;32m    585\u001b[0m       \u001b[0mtrainable_variables\u001b[0m\u001b[1;33m=\u001b[0m\u001b[0mtrainable_variables\u001b[0m\u001b[1;33m,\u001b[0m\u001b[1;33m\u001b[0m\u001b[1;33m\u001b[0m\u001b[0m\n\u001b[1;32m--> 586\u001b[1;33m       update_ops=update_ops)\n\u001b[0m\u001b[0;32m    587\u001b[0m \u001b[1;33m\u001b[0m\u001b[0m\n\u001b[0;32m    588\u001b[0m \u001b[1;33m\u001b[0m\u001b[0m\n",
      "\u001b[1;32m~\\anaconda3\\lib\\site-packages\\tensorflow_estimator\\python\\estimator\\head\\base_head.py\u001b[0m in \u001b[0;36mcreate_estimator_spec\u001b[1;34m(self, features, mode, logits, labels, optimizer, trainable_variables, train_op_fn, update_ops, regularization_losses)\u001b[0m\n\u001b[0;32m    290\u001b[0m               \u001b[0mtrain_op_fn\u001b[0m\u001b[1;33m=\u001b[0m\u001b[0mtrain_op_fn\u001b[0m\u001b[1;33m,\u001b[0m\u001b[1;33m\u001b[0m\u001b[1;33m\u001b[0m\u001b[0m\n\u001b[0;32m    291\u001b[0m               \u001b[0mupdate_ops\u001b[0m\u001b[1;33m=\u001b[0m\u001b[0mupdate_ops\u001b[0m\u001b[1;33m,\u001b[0m\u001b[1;33m\u001b[0m\u001b[1;33m\u001b[0m\u001b[0m\n\u001b[1;32m--> 292\u001b[1;33m               regularization_losses=regularization_losses))\n\u001b[0m\u001b[0;32m    293\u001b[0m       \u001b[1;32mreturn\u001b[0m \u001b[0mtpu_estimator_spec\u001b[0m\u001b[1;33m.\u001b[0m\u001b[0mas_estimator_spec\u001b[0m\u001b[1;33m(\u001b[0m\u001b[1;33m)\u001b[0m\u001b[1;33m\u001b[0m\u001b[1;33m\u001b[0m\u001b[0m\n\u001b[0;32m    294\u001b[0m     \u001b[1;32mexcept\u001b[0m \u001b[0mNotImplementedError\u001b[0m\u001b[1;33m:\u001b[0m\u001b[1;33m\u001b[0m\u001b[1;33m\u001b[0m\u001b[0m\n",
      "\u001b[1;32m~\\anaconda3\\lib\\site-packages\\tensorflow_estimator\\python\\estimator\\head\\multi_class_head.py\u001b[0m in \u001b[0;36m_create_tpu_estimator_spec\u001b[1;34m(self, features, mode, logits, labels, optimizer, trainable_variables, train_op_fn, update_ops, regularization_losses)\u001b[0m\n\u001b[0;32m    460\u001b[0m           \u001b[0mfeatures\u001b[0m\u001b[1;33m=\u001b[0m\u001b[0mfeatures\u001b[0m\u001b[1;33m,\u001b[0m\u001b[1;33m\u001b[0m\u001b[1;33m\u001b[0m\u001b[0m\n\u001b[0;32m    461\u001b[0m           \u001b[0mmode\u001b[0m\u001b[1;33m=\u001b[0m\u001b[0mmode\u001b[0m\u001b[1;33m,\u001b[0m\u001b[1;33m\u001b[0m\u001b[1;33m\u001b[0m\u001b[0m\n\u001b[1;32m--> 462\u001b[1;33m           regularization_losses=regularization_losses)\n\u001b[0m\u001b[0;32m    463\u001b[0m       \u001b[1;31m# Eval.\u001b[0m\u001b[1;33m\u001b[0m\u001b[1;33m\u001b[0m\u001b[1;33m\u001b[0m\u001b[0m\n\u001b[0;32m    464\u001b[0m       \u001b[1;32mif\u001b[0m \u001b[0mmode\u001b[0m \u001b[1;33m==\u001b[0m \u001b[0mModeKeys\u001b[0m\u001b[1;33m.\u001b[0m\u001b[0mEVAL\u001b[0m\u001b[1;33m:\u001b[0m\u001b[1;33m\u001b[0m\u001b[1;33m\u001b[0m\u001b[0m\n",
      "\u001b[1;32m~\\anaconda3\\lib\\site-packages\\tensorflow_estimator\\python\\estimator\\head\\multi_class_head.py\u001b[0m in \u001b[0;36mloss\u001b[1;34m(***failed resolving arguments***)\u001b[0m\n\u001b[0;32m    273\u001b[0m         'losses', values=(logits, labels, regularization_losses, features)):\n\u001b[0;32m    274\u001b[0m       \u001b[0mlogits\u001b[0m \u001b[1;33m=\u001b[0m \u001b[0mbase_head\u001b[0m\u001b[1;33m.\u001b[0m\u001b[0mcheck_logits_final_dim\u001b[0m\u001b[1;33m(\u001b[0m\u001b[0mlogits\u001b[0m\u001b[1;33m,\u001b[0m \u001b[0mself\u001b[0m\u001b[1;33m.\u001b[0m\u001b[0mlogits_dimension\u001b[0m\u001b[1;33m)\u001b[0m\u001b[1;33m\u001b[0m\u001b[1;33m\u001b[0m\u001b[0m\n\u001b[1;32m--> 275\u001b[1;33m       \u001b[0mlabel_ids\u001b[0m \u001b[1;33m=\u001b[0m \u001b[0mself\u001b[0m\u001b[1;33m.\u001b[0m\u001b[0m_processed_labels\u001b[0m\u001b[1;33m(\u001b[0m\u001b[0mlogits\u001b[0m\u001b[1;33m,\u001b[0m \u001b[0mlabels\u001b[0m\u001b[1;33m)\u001b[0m\u001b[1;33m\u001b[0m\u001b[1;33m\u001b[0m\u001b[0m\n\u001b[0m\u001b[0;32m    276\u001b[0m       unweighted_loss, weights = self._unweighted_loss_and_weights(\n\u001b[0;32m    277\u001b[0m           logits, label_ids, features)\n",
      "\u001b[1;32m~\\anaconda3\\lib\\site-packages\\tensorflow_estimator\\python\\estimator\\head\\multi_class_head.py\u001b[0m in \u001b[0;36m_processed_labels\u001b[1;34m(self, logits, labels)\u001b[0m\n\u001b[0;32m    228\u001b[0m     \u001b[1;34m\"\"\"Converts labels to integer id space.\"\"\"\u001b[0m\u001b[1;33m\u001b[0m\u001b[1;33m\u001b[0m\u001b[0m\n\u001b[0;32m    229\u001b[0m     labels = base_head.check_dense_labels_match_logits_and_reshape(\n\u001b[1;32m--> 230\u001b[1;33m         labels=labels, logits=logits, expected_labels_dimension=1)\n\u001b[0m\u001b[0;32m    231\u001b[0m     \u001b[1;32mif\u001b[0m \u001b[0mself\u001b[0m\u001b[1;33m.\u001b[0m\u001b[0m_label_vocabulary\u001b[0m \u001b[1;32mis\u001b[0m \u001b[1;32mNone\u001b[0m\u001b[1;33m:\u001b[0m\u001b[1;33m\u001b[0m\u001b[1;33m\u001b[0m\u001b[0m\n\u001b[0;32m    232\u001b[0m       \u001b[1;32mif\u001b[0m \u001b[1;32mnot\u001b[0m \u001b[0mlabels\u001b[0m\u001b[1;33m.\u001b[0m\u001b[0mdtype\u001b[0m\u001b[1;33m.\u001b[0m\u001b[0mis_integer\u001b[0m\u001b[1;33m:\u001b[0m\u001b[1;33m\u001b[0m\u001b[1;33m\u001b[0m\u001b[0m\n",
      "\u001b[1;32m~\\anaconda3\\lib\\site-packages\\tensorflow_estimator\\python\\estimator\\head\\base_head.py\u001b[0m in \u001b[0;36mcheck_dense_labels_match_logits_and_reshape\u001b[1;34m(labels, logits, expected_labels_dimension)\u001b[0m\n\u001b[0;32m    407\u001b[0m     \u001b[1;32mraise\u001b[0m \u001b[0mValueError\u001b[0m\u001b[1;33m(\u001b[0m\u001b[0m_LABEL_NONE_ERR_MSG\u001b[0m\u001b[1;33m)\u001b[0m\u001b[1;33m\u001b[0m\u001b[1;33m\u001b[0m\u001b[0m\n\u001b[0;32m    408\u001b[0m   \u001b[1;32mwith\u001b[0m \u001b[0mops\u001b[0m\u001b[1;33m.\u001b[0m\u001b[0mname_scope\u001b[0m\u001b[1;33m(\u001b[0m\u001b[1;34m'labels'\u001b[0m\u001b[1;33m,\u001b[0m \u001b[0mvalues\u001b[0m\u001b[1;33m=\u001b[0m\u001b[1;33m(\u001b[0m\u001b[0mlabels\u001b[0m\u001b[1;33m,\u001b[0m \u001b[0mlogits\u001b[0m\u001b[1;33m)\u001b[0m\u001b[1;33m)\u001b[0m \u001b[1;32mas\u001b[0m \u001b[0mscope\u001b[0m\u001b[1;33m:\u001b[0m\u001b[1;33m\u001b[0m\u001b[1;33m\u001b[0m\u001b[0m\n\u001b[1;32m--> 409\u001b[1;33m     \u001b[0mlabels\u001b[0m \u001b[1;33m=\u001b[0m \u001b[0mtf\u001b[0m\u001b[1;33m.\u001b[0m\u001b[0mcompat\u001b[0m\u001b[1;33m.\u001b[0m\u001b[0mv1\u001b[0m\u001b[1;33m.\u001b[0m\u001b[0mconvert_to_tensor_or_sparse_tensor\u001b[0m\u001b[1;33m(\u001b[0m\u001b[0mlabels\u001b[0m\u001b[1;33m)\u001b[0m\u001b[1;33m\u001b[0m\u001b[1;33m\u001b[0m\u001b[0m\n\u001b[0m\u001b[0;32m    410\u001b[0m     \u001b[1;32mif\u001b[0m \u001b[0misinstance\u001b[0m\u001b[1;33m(\u001b[0m\u001b[0mlabels\u001b[0m\u001b[1;33m,\u001b[0m \u001b[0mtf\u001b[0m\u001b[1;33m.\u001b[0m\u001b[0msparse\u001b[0m\u001b[1;33m.\u001b[0m\u001b[0mSparseTensor\u001b[0m\u001b[1;33m)\u001b[0m\u001b[1;33m:\u001b[0m\u001b[1;33m\u001b[0m\u001b[1;33m\u001b[0m\u001b[0m\n\u001b[0;32m    411\u001b[0m       raise ValueError(\n",
      "\u001b[1;32m~\\anaconda3\\lib\\site-packages\\tensorflow\\python\\framework\\sparse_tensor.py\u001b[0m in \u001b[0;36mconvert_to_tensor_or_sparse_tensor\u001b[1;34m(value, dtype, name)\u001b[0m\n\u001b[0;32m    468\u001b[0m                          (dtype.name, value.dtype.name))\n\u001b[0;32m    469\u001b[0m     \u001b[1;32mreturn\u001b[0m \u001b[0mvalue\u001b[0m\u001b[1;33m\u001b[0m\u001b[1;33m\u001b[0m\u001b[0m\n\u001b[1;32m--> 470\u001b[1;33m   \u001b[1;32mreturn\u001b[0m \u001b[0mops\u001b[0m\u001b[1;33m.\u001b[0m\u001b[0mconvert_to_tensor\u001b[0m\u001b[1;33m(\u001b[0m\u001b[0mvalue\u001b[0m\u001b[1;33m,\u001b[0m \u001b[0mdtype\u001b[0m\u001b[1;33m=\u001b[0m\u001b[0mdtype\u001b[0m\u001b[1;33m,\u001b[0m \u001b[0mname\u001b[0m\u001b[1;33m=\u001b[0m\u001b[0mname\u001b[0m\u001b[1;33m)\u001b[0m\u001b[1;33m\u001b[0m\u001b[1;33m\u001b[0m\u001b[0m\n\u001b[0m\u001b[0;32m    471\u001b[0m \u001b[1;33m\u001b[0m\u001b[0m\n\u001b[0;32m    472\u001b[0m \u001b[1;33m\u001b[0m\u001b[0m\n",
      "\u001b[1;32m~\\anaconda3\\lib\\site-packages\\tensorflow\\python\\framework\\ops.py\u001b[0m in \u001b[0;36mconvert_to_tensor\u001b[1;34m(value, dtype, name, as_ref, preferred_dtype, dtype_hint, ctx, accepted_result_types)\u001b[0m\n\u001b[0;32m   1339\u001b[0m \u001b[1;33m\u001b[0m\u001b[0m\n\u001b[0;32m   1340\u001b[0m     \u001b[1;32mif\u001b[0m \u001b[0mret\u001b[0m \u001b[1;32mis\u001b[0m \u001b[1;32mNone\u001b[0m\u001b[1;33m:\u001b[0m\u001b[1;33m\u001b[0m\u001b[1;33m\u001b[0m\u001b[0m\n\u001b[1;32m-> 1341\u001b[1;33m       \u001b[0mret\u001b[0m \u001b[1;33m=\u001b[0m \u001b[0mconversion_func\u001b[0m\u001b[1;33m(\u001b[0m\u001b[0mvalue\u001b[0m\u001b[1;33m,\u001b[0m \u001b[0mdtype\u001b[0m\u001b[1;33m=\u001b[0m\u001b[0mdtype\u001b[0m\u001b[1;33m,\u001b[0m \u001b[0mname\u001b[0m\u001b[1;33m=\u001b[0m\u001b[0mname\u001b[0m\u001b[1;33m,\u001b[0m \u001b[0mas_ref\u001b[0m\u001b[1;33m=\u001b[0m\u001b[0mas_ref\u001b[0m\u001b[1;33m)\u001b[0m\u001b[1;33m\u001b[0m\u001b[1;33m\u001b[0m\u001b[0m\n\u001b[0m\u001b[0;32m   1342\u001b[0m \u001b[1;33m\u001b[0m\u001b[0m\n\u001b[0;32m   1343\u001b[0m     \u001b[1;32mif\u001b[0m \u001b[0mret\u001b[0m \u001b[1;32mis\u001b[0m \u001b[0mNotImplemented\u001b[0m\u001b[1;33m:\u001b[0m\u001b[1;33m\u001b[0m\u001b[1;33m\u001b[0m\u001b[0m\n",
      "\u001b[1;32m~\\anaconda3\\lib\\site-packages\\tensorflow\\python\\framework\\constant_op.py\u001b[0m in \u001b[0;36m_constant_tensor_conversion_function\u001b[1;34m(v, dtype, name, as_ref)\u001b[0m\n\u001b[0;32m    319\u001b[0m                                          as_ref=False):\n\u001b[0;32m    320\u001b[0m   \u001b[0m_\u001b[0m \u001b[1;33m=\u001b[0m \u001b[0mas_ref\u001b[0m\u001b[1;33m\u001b[0m\u001b[1;33m\u001b[0m\u001b[0m\n\u001b[1;32m--> 321\u001b[1;33m   \u001b[1;32mreturn\u001b[0m \u001b[0mconstant\u001b[0m\u001b[1;33m(\u001b[0m\u001b[0mv\u001b[0m\u001b[1;33m,\u001b[0m \u001b[0mdtype\u001b[0m\u001b[1;33m=\u001b[0m\u001b[0mdtype\u001b[0m\u001b[1;33m,\u001b[0m \u001b[0mname\u001b[0m\u001b[1;33m=\u001b[0m\u001b[0mname\u001b[0m\u001b[1;33m)\u001b[0m\u001b[1;33m\u001b[0m\u001b[1;33m\u001b[0m\u001b[0m\n\u001b[0m\u001b[0;32m    322\u001b[0m \u001b[1;33m\u001b[0m\u001b[0m\n\u001b[0;32m    323\u001b[0m \u001b[1;33m\u001b[0m\u001b[0m\n",
      "\u001b[1;32m~\\anaconda3\\lib\\site-packages\\tensorflow\\python\\framework\\constant_op.py\u001b[0m in \u001b[0;36mconstant\u001b[1;34m(value, dtype, shape, name)\u001b[0m\n\u001b[0;32m    260\u001b[0m   \"\"\"\n\u001b[0;32m    261\u001b[0m   return _constant_impl(value, dtype, shape, name, verify_shape=False,\n\u001b[1;32m--> 262\u001b[1;33m                         allow_broadcast=True)\n\u001b[0m\u001b[0;32m    263\u001b[0m \u001b[1;33m\u001b[0m\u001b[0m\n\u001b[0;32m    264\u001b[0m \u001b[1;33m\u001b[0m\u001b[0m\n",
      "\u001b[1;32m~\\anaconda3\\lib\\site-packages\\tensorflow\\python\\framework\\constant_op.py\u001b[0m in \u001b[0;36m_constant_impl\u001b[1;34m(value, dtype, shape, name, verify_shape, allow_broadcast)\u001b[0m\n\u001b[0;32m    298\u001b[0m       tensor_util.make_tensor_proto(\n\u001b[0;32m    299\u001b[0m           \u001b[0mvalue\u001b[0m\u001b[1;33m,\u001b[0m \u001b[0mdtype\u001b[0m\u001b[1;33m=\u001b[0m\u001b[0mdtype\u001b[0m\u001b[1;33m,\u001b[0m \u001b[0mshape\u001b[0m\u001b[1;33m=\u001b[0m\u001b[0mshape\u001b[0m\u001b[1;33m,\u001b[0m \u001b[0mverify_shape\u001b[0m\u001b[1;33m=\u001b[0m\u001b[0mverify_shape\u001b[0m\u001b[1;33m,\u001b[0m\u001b[1;33m\u001b[0m\u001b[1;33m\u001b[0m\u001b[0m\n\u001b[1;32m--> 300\u001b[1;33m           allow_broadcast=allow_broadcast))\n\u001b[0m\u001b[0;32m    301\u001b[0m   \u001b[0mdtype_value\u001b[0m \u001b[1;33m=\u001b[0m \u001b[0mattr_value_pb2\u001b[0m\u001b[1;33m.\u001b[0m\u001b[0mAttrValue\u001b[0m\u001b[1;33m(\u001b[0m\u001b[0mtype\u001b[0m\u001b[1;33m=\u001b[0m\u001b[0mtensor_value\u001b[0m\u001b[1;33m.\u001b[0m\u001b[0mtensor\u001b[0m\u001b[1;33m.\u001b[0m\u001b[0mdtype\u001b[0m\u001b[1;33m)\u001b[0m\u001b[1;33m\u001b[0m\u001b[1;33m\u001b[0m\u001b[0m\n\u001b[0;32m    302\u001b[0m   const_tensor = g._create_op_internal(  # pylint: disable=protected-access\n",
      "\u001b[1;32m~\\anaconda3\\lib\\site-packages\\tensorflow\\python\\framework\\tensor_util.py\u001b[0m in \u001b[0;36mmake_tensor_proto\u001b[1;34m(values, dtype, shape, verify_shape, allow_broadcast)\u001b[0m\n\u001b[0;32m    449\u001b[0m       \u001b[0mnparray\u001b[0m \u001b[1;33m=\u001b[0m \u001b[0mnp\u001b[0m\u001b[1;33m.\u001b[0m\u001b[0mempty\u001b[0m\u001b[1;33m(\u001b[0m\u001b[0mshape\u001b[0m\u001b[1;33m,\u001b[0m \u001b[0mdtype\u001b[0m\u001b[1;33m=\u001b[0m\u001b[0mnp_dt\u001b[0m\u001b[1;33m)\u001b[0m\u001b[1;33m\u001b[0m\u001b[1;33m\u001b[0m\u001b[0m\n\u001b[0;32m    450\u001b[0m     \u001b[1;32melse\u001b[0m\u001b[1;33m:\u001b[0m\u001b[1;33m\u001b[0m\u001b[1;33m\u001b[0m\u001b[0m\n\u001b[1;32m--> 451\u001b[1;33m       \u001b[0m_AssertCompatible\u001b[0m\u001b[1;33m(\u001b[0m\u001b[0mvalues\u001b[0m\u001b[1;33m,\u001b[0m \u001b[0mdtype\u001b[0m\u001b[1;33m)\u001b[0m\u001b[1;33m\u001b[0m\u001b[1;33m\u001b[0m\u001b[0m\n\u001b[0m\u001b[0;32m    452\u001b[0m       \u001b[0mnparray\u001b[0m \u001b[1;33m=\u001b[0m \u001b[0mnp\u001b[0m\u001b[1;33m.\u001b[0m\u001b[0marray\u001b[0m\u001b[1;33m(\u001b[0m\u001b[0mvalues\u001b[0m\u001b[1;33m,\u001b[0m \u001b[0mdtype\u001b[0m\u001b[1;33m=\u001b[0m\u001b[0mnp_dt\u001b[0m\u001b[1;33m)\u001b[0m\u001b[1;33m\u001b[0m\u001b[1;33m\u001b[0m\u001b[0m\n\u001b[0;32m    453\u001b[0m       \u001b[1;31m# check to them.\u001b[0m\u001b[1;33m\u001b[0m\u001b[1;33m\u001b[0m\u001b[1;33m\u001b[0m\u001b[0m\n",
      "\u001b[1;32m~\\anaconda3\\lib\\site-packages\\tensorflow\\python\\framework\\tensor_util.py\u001b[0m in \u001b[0;36m_AssertCompatible\u001b[1;34m(values, dtype)\u001b[0m\n\u001b[0;32m    326\u001b[0m     \u001b[1;33m[\u001b[0m\u001b[0mmismatch\u001b[0m\u001b[1;33m]\u001b[0m \u001b[1;33m=\u001b[0m \u001b[0me\u001b[0m\u001b[1;33m.\u001b[0m\u001b[0margs\u001b[0m\u001b[1;33m\u001b[0m\u001b[1;33m\u001b[0m\u001b[0m\n\u001b[0;32m    327\u001b[0m     \u001b[1;32mif\u001b[0m \u001b[0mdtype\u001b[0m \u001b[1;32mis\u001b[0m \u001b[1;32mNone\u001b[0m\u001b[1;33m:\u001b[0m\u001b[1;33m\u001b[0m\u001b[1;33m\u001b[0m\u001b[0m\n\u001b[1;32m--> 328\u001b[1;33m       \u001b[1;32mraise\u001b[0m \u001b[0mTypeError\u001b[0m\u001b[1;33m(\u001b[0m\u001b[1;34m\"Expected any non-tensor type, got a tensor instead.\"\u001b[0m\u001b[1;33m)\u001b[0m\u001b[1;33m\u001b[0m\u001b[1;33m\u001b[0m\u001b[0m\n\u001b[0m\u001b[0;32m    329\u001b[0m     \u001b[1;32melse\u001b[0m\u001b[1;33m:\u001b[0m\u001b[1;33m\u001b[0m\u001b[1;33m\u001b[0m\u001b[0m\n\u001b[0;32m    330\u001b[0m       raise TypeError(\"Expected %s, got %s of type '%s' instead.\" %\n",
      "\u001b[1;31mTypeError\u001b[0m: Expected any non-tensor type, got a tensor instead."
     ]
    }
   ],
   "source": [
    "history =dnnmodel.train(input_fn=input_func, steps=500)"
   ]
  },
  {
   "cell_type": "code",
   "execution_count": null,
   "metadata": {},
   "outputs": [],
   "source": []
  },
  {
   "cell_type": "markdown",
   "metadata": {},
   "source": [
    "# Keras DNN model\n",
    "\n",
    "Use Tensorflow's Keras library to predict the same target variable. "
   ]
  },
  {
   "cell_type": "code",
   "execution_count": 119,
   "metadata": {},
   "outputs": [],
   "source": [
    "#using keras dnn\n",
    "\n",
    "model = tf.keras.models.Sequential([\n",
    "  tf.keras.layers.Flatten(),\n",
    "  #f.keras.layers.Dense(64, activation=tf.nn.relu),\n",
    "  tf.keras.layers.Dense(128, activation=tf.nn.relu),\n",
    "  tf.keras.layers.Dense(256, activation=tf.nn.relu),\n",
    "  tf.keras.layers.Dense(5, activation=tf.nn.softmax)\n",
    "])\n",
    "\n",
    "model.compile(optimizer=tf.optimizers.Adam(),\n",
    "              loss='sparse_categorical_crossentropy',\n",
    "              metrics=['accuracy'])"
   ]
  },
  {
   "cell_type": "code",
   "execution_count": 123,
   "metadata": {},
   "outputs": [
    {
     "name": "stdout",
     "output_type": "stream",
     "text": [
      "Epoch 1/60\n",
      "484/484 [==============================] - 2s 4ms/step - loss: 0.1275 - accuracy: 0.9479\n",
      "Epoch 2/60\n",
      "484/484 [==============================] - 2s 4ms/step - loss: 0.1299 - accuracy: 0.9441\n",
      "Epoch 3/60\n",
      "484/484 [==============================] - 2s 4ms/step - loss: 0.1280 - accuracy: 0.9465\n",
      "Epoch 4/60\n",
      "484/484 [==============================] - 2s 4ms/step - loss: 0.1224 - accuracy: 0.9484\n",
      "Epoch 5/60\n",
      "484/484 [==============================] - 2s 4ms/step - loss: 0.1291 - accuracy: 0.9459\n",
      "Epoch 6/60\n",
      "484/484 [==============================] - 2s 4ms/step - loss: 0.1234 - accuracy: 0.9464\n",
      "Epoch 7/60\n",
      "484/484 [==============================] - 2s 5ms/step - loss: 0.1223 - accuracy: 0.9488\n",
      "Epoch 8/60\n",
      "484/484 [==============================] - 2s 4ms/step - loss: 0.1245 - accuracy: 0.9494\n",
      "Epoch 9/60\n",
      "484/484 [==============================] - 2s 4ms/step - loss: 0.1155 - accuracy: 0.9535\n",
      "Epoch 10/60\n",
      "484/484 [==============================] - 2s 4ms/step - loss: 0.1202 - accuracy: 0.9499\n",
      "Epoch 11/60\n",
      "484/484 [==============================] - 2s 5ms/step - loss: 0.1160 - accuracy: 0.9526\n",
      "Epoch 12/60\n",
      "484/484 [==============================] - 2s 4ms/step - loss: 0.1131 - accuracy: 0.9528\n",
      "Epoch 13/60\n",
      "484/484 [==============================] - 2s 5ms/step - loss: 0.1131 - accuracy: 0.9521\n",
      "Epoch 14/60\n",
      "484/484 [==============================] - 3s 6ms/step - loss: 0.1119 - accuracy: 0.9541\n",
      "Epoch 15/60\n",
      "484/484 [==============================] - 2s 4ms/step - loss: 0.1098 - accuracy: 0.9548\n",
      "Epoch 16/60\n",
      "484/484 [==============================] - 2s 4ms/step - loss: 0.1055 - accuracy: 0.9564\n",
      "Epoch 17/60\n",
      "484/484 [==============================] - 2s 4ms/step - loss: 0.1129 - accuracy: 0.9533\n",
      "Epoch 18/60\n",
      "484/484 [==============================] - 2s 4ms/step - loss: 0.1101 - accuracy: 0.9556\n",
      "Epoch 19/60\n",
      "484/484 [==============================] - 2s 3ms/step - loss: 0.1054 - accuracy: 0.9572\n",
      "Epoch 20/60\n",
      "484/484 [==============================] - 2s 4ms/step - loss: 0.1035 - accuracy: 0.9552\n",
      "Epoch 21/60\n",
      "484/484 [==============================] - 2s 4ms/step - loss: 0.1011 - accuracy: 0.9592\n",
      "Epoch 22/60\n",
      "484/484 [==============================] - 2s 4ms/step - loss: 0.1044 - accuracy: 0.9587\n",
      "Epoch 23/60\n",
      "484/484 [==============================] - 2s 4ms/step - loss: 0.0980 - accuracy: 0.9607\n",
      "Epoch 24/60\n",
      "484/484 [==============================] - 2s 5ms/step - loss: 0.1011 - accuracy: 0.9576\n",
      "Epoch 25/60\n",
      "484/484 [==============================] - 2s 5ms/step - loss: 0.1004 - accuracy: 0.9570\n",
      "Epoch 26/60\n",
      "484/484 [==============================] - 2s 5ms/step - loss: 0.0943 - accuracy: 0.9615\n",
      "Epoch 27/60\n",
      "484/484 [==============================] - 2s 4ms/step - loss: 0.1029 - accuracy: 0.9579\n",
      "Epoch 28/60\n",
      "484/484 [==============================] - 2s 4ms/step - loss: 0.0924 - accuracy: 0.9629\n",
      "Epoch 29/60\n",
      "484/484 [==============================] - 2s 4ms/step - loss: 0.0911 - accuracy: 0.9625\n",
      "Epoch 30/60\n",
      "484/484 [==============================] - 2s 4ms/step - loss: 0.0920 - accuracy: 0.9634\n",
      "Epoch 31/60\n",
      "484/484 [==============================] - 2s 4ms/step - loss: 0.0951 - accuracy: 0.9602\n",
      "Epoch 32/60\n",
      "484/484 [==============================] - 3s 6ms/step - loss: 0.0900 - accuracy: 0.9632\n",
      "Epoch 33/60\n",
      "484/484 [==============================] - 2s 4ms/step - loss: 0.0866 - accuracy: 0.9649\n",
      "Epoch 34/60\n",
      "484/484 [==============================] - 2s 4ms/step - loss: 0.0868 - accuracy: 0.9651\n",
      "Epoch 35/60\n",
      "484/484 [==============================] - 2s 4ms/step - loss: 0.0869 - accuracy: 0.9632\n",
      "Epoch 36/60\n",
      "484/484 [==============================] - 3s 6ms/step - loss: 0.0879 - accuracy: 0.9644\n",
      "Epoch 37/60\n",
      "484/484 [==============================] - 2s 4ms/step - loss: 0.0866 - accuracy: 0.9654\n",
      "Epoch 38/60\n",
      "484/484 [==============================] - 2s 4ms/step - loss: 0.0847 - accuracy: 0.9641\n",
      "Epoch 39/60\n",
      "484/484 [==============================] - 2s 5ms/step - loss: 0.0845 - accuracy: 0.9674\n",
      "Epoch 40/60\n",
      "484/484 [==============================] - 2s 4ms/step - loss: 0.0938 - accuracy: 0.9633\n",
      "Epoch 41/60\n",
      "484/484 [==============================] - 2s 4ms/step - loss: 0.0864 - accuracy: 0.9637\n",
      "Epoch 42/60\n",
      "484/484 [==============================] - 3s 5ms/step - loss: 0.0834 - accuracy: 0.9647\n",
      "Epoch 43/60\n",
      "484/484 [==============================] - 2s 4ms/step - loss: 0.0794 - accuracy: 0.9680\n",
      "Epoch 44/60\n",
      "484/484 [==============================] - 2s 4ms/step - loss: 0.0803 - accuracy: 0.9685\n",
      "Epoch 45/60\n",
      "484/484 [==============================] - 2s 4ms/step - loss: 0.0746 - accuracy: 0.9697\n",
      "Epoch 46/60\n",
      "484/484 [==============================] - 2s 5ms/step - loss: 0.0735 - accuracy: 0.9703\n",
      "Epoch 47/60\n",
      "484/484 [==============================] - 2s 5ms/step - loss: 0.0813 - accuracy: 0.9663\n",
      "Epoch 48/60\n",
      "484/484 [==============================] - 2s 5ms/step - loss: 0.0866 - accuracy: 0.9656\n",
      "Epoch 49/60\n",
      "484/484 [==============================] - 2s 4ms/step - loss: 0.0743 - accuracy: 0.9698\n",
      "Epoch 50/60\n",
      "484/484 [==============================] - 2s 5ms/step - loss: 0.0865 - accuracy: 0.9722\n",
      "Epoch 51/60\n",
      "484/484 [==============================] - 3s 5ms/step - loss: 0.0805 - accuracy: 0.9693\n",
      "Epoch 52/60\n",
      "484/484 [==============================] - 2s 4ms/step - loss: 0.0794 - accuracy: 0.9714\n",
      "Epoch 53/60\n",
      "484/484 [==============================] - 2s 4ms/step - loss: 0.0687 - accuracy: 0.9725\n",
      "Epoch 54/60\n",
      "484/484 [==============================] - 2s 4ms/step - loss: 0.0706 - accuracy: 0.9714\n",
      "Epoch 55/60\n",
      "484/484 [==============================] - 2s 4ms/step - loss: 0.0772 - accuracy: 0.9702\n",
      "Epoch 56/60\n",
      "484/484 [==============================] - 2s 4ms/step - loss: 0.0715 - accuracy: 0.9727\n",
      "Epoch 57/60\n",
      "484/484 [==============================] - 2s 4ms/step - loss: 0.0671 - accuracy: 0.9729\n",
      "Epoch 58/60\n",
      "484/484 [==============================] - 2s 4ms/step - loss: 0.0702 - accuracy: 0.9727\n",
      "Epoch 59/60\n",
      "484/484 [==============================] - 2s 5ms/step - loss: 0.0691 - accuracy: 0.9739\n",
      "Epoch 60/60\n",
      "484/484 [==============================] - 2s 4ms/step - loss: 0.0659 - accuracy: 0.9742\n"
     ]
    },
    {
     "data": {
      "text/plain": [
       "<tensorflow.python.keras.callbacks.History at 0x13e28bce1c8>"
      ]
     },
     "execution_count": 123,
     "metadata": {},
     "output_type": "execute_result"
    }
   ],
   "source": [
    "model.fit(train_x,train_y, epochs=60)"
   ]
  },
  {
   "cell_type": "code",
   "execution_count": 124,
   "metadata": {},
   "outputs": [],
   "source": [
    "predicted = model.predict(test_x)\n",
    "predicted = np.argmax(predicted, axis=1)\n"
   ]
  },
  {
   "cell_type": "code",
   "execution_count": 125,
   "metadata": {},
   "outputs": [
    {
     "data": {
      "text/plain": [
       "0.9205426356589147"
      ]
     },
     "execution_count": 125,
     "metadata": {},
     "output_type": "execute_result"
    }
   ],
   "source": [
    "from sklearn.metrics import accuracy_score\n",
    "accuracy_score(test_y, predicted)"
   ]
  },
  {
   "cell_type": "markdown",
   "metadata": {},
   "source": [
    "Accuracy on training set : 98%\n",
    "Accuracy on test set : 92%\n",
    "    \n",
    "The model used is overfitting and is a tight coupled model. we need to losen it a bit to avoid overfitting or try\n",
    "measures such as regularization or dropouts. "
   ]
  },
  {
   "cell_type": "code",
   "execution_count": 129,
   "metadata": {},
   "outputs": [],
   "source": [
    "# tweaking model parameters to remove overfitting\n",
    "#steps taken\n",
    "#losen the model architecture\n",
    "# reduced the training time\n",
    "\n",
    "\n",
    "model = tf.keras.models.Sequential([\n",
    "  tf.keras.layers.Flatten(),\n",
    "  #f.keras.layers.Dense(64, activation=tf.nn.relu),\n",
    "  #tf.keras.layers.Dense(128, activation=tf.nn.relu),\n",
    "  #f.keras.layers.Dense(128, activation=tf.nn.relu),\n",
    "  #tf.keras.layers.Dense(128, activation=tf.nn.relu),\n",
    "  tf.keras.layers.Dense(128, activation=tf.nn.relu),\n",
    "  tf.keras.layers.Dense(5, activation=tf.nn.softmax)\n",
    "])\n",
    "\n",
    "model.compile(optimizer=tf.optimizers.Adam(),\n",
    "              loss='sparse_categorical_crossentropy',\n",
    "              metrics=['accuracy'])"
   ]
  },
  {
   "cell_type": "code",
   "execution_count": 130,
   "metadata": {},
   "outputs": [
    {
     "name": "stdout",
     "output_type": "stream",
     "text": [
      "Epoch 1/35\n",
      "WARNING:tensorflow:Layer flatten_15 is casting an input tensor from dtype float64 to the layer's dtype of float32, which is new behavior in TensorFlow 2.  The layer has dtype float32 because it's dtype defaults to floatx.\n",
      "\n",
      "If you intended to run this layer in float32, you can safely ignore this warning. If in doubt, this warning is likely only an issue if you are porting a TensorFlow 1.X model to TensorFlow 2.\n",
      "\n",
      "To change all layers to have dtype float64 by default, call `tf.keras.backend.set_floatx('float64')`. To change just this layer, pass dtype='float64' to the layer constructor. If you are the author of this layer, you can disable autocasting by passing autocast=False to the base Layer constructor.\n",
      "\n",
      "484/484 [==============================] - 2s 4ms/step - loss: 0.8236 - accuracy: 0.7059\n",
      "Epoch 2/35\n",
      "484/484 [==============================] - 2s 4ms/step - loss: 0.5828 - accuracy: 0.7824\n",
      "Epoch 3/35\n",
      "484/484 [==============================] - 3s 6ms/step - loss: 0.4966 - accuracy: 0.8083\n",
      "Epoch 4/35\n",
      "484/484 [==============================] - 3s 6ms/step - loss: 0.4389 - accuracy: 0.8276\n",
      "Epoch 5/35\n",
      "484/484 [==============================] - 2s 4ms/step - loss: 0.3964 - accuracy: 0.8468\n",
      "Epoch 6/35\n",
      "484/484 [==============================] - 2s 4ms/step - loss: 0.3690 - accuracy: 0.8562\n",
      "Epoch 7/35\n",
      "484/484 [==============================] - 2s 4ms/step - loss: 0.3486 - accuracy: 0.8641\n",
      "Epoch 8/35\n",
      "484/484 [==============================] - 2s 4ms/step - loss: 0.3299 - accuracy: 0.8689\n",
      "Epoch 9/35\n",
      "484/484 [==============================] - 1s 3ms/step - loss: 0.3226 - accuracy: 0.8716\n",
      "Epoch 10/35\n",
      "484/484 [==============================] - 1s 3ms/step - loss: 0.3088 - accuracy: 0.8751\n",
      "Epoch 11/35\n",
      "484/484 [==============================] - 1s 3ms/step - loss: 0.3002 - accuracy: 0.8795\n",
      "Epoch 12/35\n",
      "484/484 [==============================] - 1s 3ms/step - loss: 0.2895 - accuracy: 0.8823\n",
      "Epoch 13/35\n",
      "484/484 [==============================] - 1s 3ms/step - loss: 0.2862 - accuracy: 0.8862\n",
      "Epoch 14/35\n",
      "484/484 [==============================] - 1s 3ms/step - loss: 0.2771 - accuracy: 0.8873\n",
      "Epoch 15/35\n",
      "484/484 [==============================] - 1s 3ms/step - loss: 0.2738 - accuracy: 0.8890\n",
      "Epoch 16/35\n",
      "484/484 [==============================] - 1s 3ms/step - loss: 0.2696 - accuracy: 0.8891\n",
      "Epoch 17/35\n",
      "484/484 [==============================] - 1s 3ms/step - loss: 0.2622 - accuracy: 0.8938\n",
      "Epoch 18/35\n",
      "484/484 [==============================] - 1s 3ms/step - loss: 0.2581 - accuracy: 0.8962\n",
      "Epoch 19/35\n",
      "484/484 [==============================] - 1s 3ms/step - loss: 0.2542 - accuracy: 0.8977\n",
      "Epoch 20/35\n",
      "484/484 [==============================] - 1s 3ms/step - loss: 0.2512 - accuracy: 0.8977\n",
      "Epoch 21/35\n",
      "484/484 [==============================] - 1s 3ms/step - loss: 0.2505 - accuracy: 0.8966\n",
      "Epoch 22/35\n",
      "484/484 [==============================] - 2s 3ms/step - loss: 0.2488 - accuracy: 0.8995\n",
      "Epoch 23/35\n",
      "484/484 [==============================] - 1s 3ms/step - loss: 0.2435 - accuracy: 0.9001\n",
      "Epoch 24/35\n",
      "484/484 [==============================] - 1s 3ms/step - loss: 0.2410 - accuracy: 0.9023\n",
      "Epoch 25/35\n",
      "484/484 [==============================] - 1s 3ms/step - loss: 0.2368 - accuracy: 0.9047\n",
      "Epoch 26/35\n",
      "484/484 [==============================] - 1s 2ms/step - loss: 0.2378 - accuracy: 0.9042\n",
      "Epoch 27/35\n",
      "484/484 [==============================] - 1s 3ms/step - loss: 0.2339 - accuracy: 0.9050\n",
      "Epoch 28/35\n",
      "484/484 [==============================] - 1s 3ms/step - loss: 0.2316 - accuracy: 0.9056\n",
      "Epoch 29/35\n",
      "484/484 [==============================] - 1s 3ms/step - loss: 0.2287 - accuracy: 0.9079\n",
      "Epoch 30/35\n",
      "484/484 [==============================] - 1s 3ms/step - loss: 0.2346 - accuracy: 0.9059\n",
      "Epoch 31/35\n",
      "484/484 [==============================] - 1s 3ms/step - loss: 0.2303 - accuracy: 0.9070\n",
      "Epoch 32/35\n",
      "484/484 [==============================] - 2s 3ms/step - loss: 0.2258 - accuracy: 0.9083\n",
      "Epoch 33/35\n",
      "484/484 [==============================] - 1s 3ms/step - loss: 0.2254 - accuracy: 0.9084\n",
      "Epoch 34/35\n",
      "484/484 [==============================] - 1s 3ms/step - loss: 0.2227 - accuracy: 0.9087\n",
      "Epoch 35/35\n",
      "484/484 [==============================] - 1s 3ms/step - loss: 0.2184 - accuracy: 0.9105\n"
     ]
    },
    {
     "data": {
      "text/plain": [
       "<tensorflow.python.keras.callbacks.History at 0x13e2b2fad08>"
      ]
     },
     "execution_count": 130,
     "metadata": {},
     "output_type": "execute_result"
    }
   ],
   "source": [
    "model.fit(train_x,train_y, epochs=35)"
   ]
  },
  {
   "cell_type": "code",
   "execution_count": 131,
   "metadata": {},
   "outputs": [
    {
     "data": {
      "text/plain": [
       "0.8875968992248062"
      ]
     },
     "execution_count": 131,
     "metadata": {},
     "output_type": "execute_result"
    }
   ],
   "source": [
    "from sklearn.metrics import accuracy_score\n",
    "predicted = model.predict(test_x)\n",
    "predicted = np.argmax(predicted, axis=1)\n",
    "\n",
    "accuracy_score(test_y, predicted)"
   ]
  },
  {
   "cell_type": "markdown",
   "metadata": {},
   "source": [
    "Accuracy on training set : 91%\n",
    "Accuracy on test set : 89%\n",
    "   \n",
    "   We did strike a balance here. \n"
   ]
  },
  {
   "cell_type": "markdown",
   "metadata": {},
   "source": [
    "# MLPClassifier (for comparison purposes)\n",
    "\n",
    "Use the MLPClassifier from the Sci-kit Learn library and predict the same target variable."
   ]
  },
  {
   "cell_type": "code",
   "execution_count": 143,
   "metadata": {},
   "outputs": [],
   "source": [
    "from sklearn.neural_network import MLPClassifier\n",
    "X_train, X_test, y_train, y_test = train_test_split(housing[columns], housing[target], stratify=housing[target],random_state=42)\n"
   ]
  },
  {
   "cell_type": "code",
   "execution_count": 168,
   "metadata": {},
   "outputs": [],
   "source": [
    "X_train = X_train.fillna(X_train.mean())\n",
    "y_train = y_train.fillna(X_train.mean())\n",
    "X_test = X_test.fillna(X_train.mean())\n",
    "y_test = y_test.fillna(X_train.mean())"
   ]
  },
  {
   "cell_type": "code",
   "execution_count": 169,
   "metadata": {},
   "outputs": [
    {
     "name": "stderr",
     "output_type": "stream",
     "text": [
      "C:\\Users\\kitri\\anaconda3\\lib\\site-packages\\sklearn\\neural_network\\_multilayer_perceptron.py:934: DataConversionWarning: A column-vector y was passed when a 1d array was expected. Please change the shape of y to (n_samples, ), for example using ravel().\n",
      "  y = column_or_1d(y, warn=True)\n",
      "C:\\Users\\kitri\\anaconda3\\lib\\site-packages\\sklearn\\neural_network\\_multilayer_perceptron.py:571: ConvergenceWarning: Stochastic Optimizer: Maximum iterations (300) reached and the optimization hasn't converged yet.\n",
      "  % self.max_iter, ConvergenceWarning)\n"
     ]
    }
   ],
   "source": [
    "clf = MLPClassifier(random_state=1, max_iter=300).fit(X_train, y_train)"
   ]
  },
  {
   "cell_type": "code",
   "execution_count": 181,
   "metadata": {},
   "outputs": [
    {
     "name": "stdout",
     "output_type": "stream",
     "text": [
      "0.942312661498708\n"
     ]
    },
    {
     "data": {
      "text/plain": [
       "array([[6505,  145,   57,  256,    0],\n",
       "       [  89, 4759,    7,    0,    0],\n",
       "       [  23,    9, 1604,   22,    0],\n",
       "       [ 235,    0,   49, 1715,    0],\n",
       "       [   0,    0,    0,    1,    4]], dtype=int64)"
      ]
     },
     "execution_count": 181,
     "metadata": {},
     "output_type": "execute_result"
    }
   ],
   "source": [
    "predictions_train = clf.predict(X_train)\n",
    "accuracy_score_training = accuracy_score(predictions_train,y_train) \n",
    "cm_Train = confusion_matrix(predictions_train,y_train)\n",
    "\n",
    "print( accuracy_score_training)\n",
    "cm_Train"
   ]
  },
  {
   "cell_type": "code",
   "execution_count": 183,
   "metadata": {},
   "outputs": [
    {
     "name": "stdout",
     "output_type": "stream",
     "text": [
      "0.923062015503876\n"
     ]
    },
    {
     "data": {
      "text/plain": [
       "array([[6505,  145,   57,  256,    0],\n",
       "       [  89, 4759,    7,    0,    0],\n",
       "       [  23,    9, 1604,   22,    0],\n",
       "       [ 235,    0,   49, 1715,    0],\n",
       "       [   0,    0,    0,    1,    4]], dtype=int64)"
      ]
     },
     "execution_count": 183,
     "metadata": {},
     "output_type": "execute_result"
    }
   ],
   "source": [
    "predictions_test = clf.predict(X_test)\n",
    "accuracy_score_testing = accuracy_score(predictions_test,y_test) \n",
    "cm_Test = confusion_matrix(predictions_test,y_test)\n",
    "\n",
    "print( accuracy_score_testing)\n",
    "cm_Train"
   ]
  },
  {
   "cell_type": "markdown",
   "metadata": {},
   "source": [
    "the mlp looks fine but lets fine tune it further\n",
    "Accuracy on training : 94\n",
    "Accuracy on testing : 92"
   ]
  },
  {
   "cell_type": "code",
   "execution_count": 186,
   "metadata": {},
   "outputs": [
    {
     "name": "stderr",
     "output_type": "stream",
     "text": [
      "C:\\Users\\kitri\\anaconda3\\lib\\site-packages\\sklearn\\neural_network\\_multilayer_perceptron.py:934: DataConversionWarning: A column-vector y was passed when a 1d array was expected. Please change the shape of y to (n_samples, ), for example using ravel().\n",
      "  y = column_or_1d(y, warn=True)\n",
      "C:\\Users\\kitri\\anaconda3\\lib\\site-packages\\sklearn\\neural_network\\_multilayer_perceptron.py:571: ConvergenceWarning: Stochastic Optimizer: Maximum iterations (600) reached and the optimization hasn't converged yet.\n",
      "  % self.max_iter, ConvergenceWarning)\n"
     ]
    }
   ],
   "source": [
    "clf = MLPClassifier(random_state=1, max_iter=600, solver='sgd').fit(X_train, y_train)"
   ]
  },
  {
   "cell_type": "code",
   "execution_count": 187,
   "metadata": {},
   "outputs": [
    {
     "name": "stdout",
     "output_type": "stream",
     "text": [
      "0.9009043927648579\n"
     ]
    },
    {
     "data": {
      "text/plain": [
       "array([[6294,  214,  136,  445,    0],\n",
       "       [  80, 4658,   31,    4,    0],\n",
       "       [ 192,   41, 1517,   68,    0],\n",
       "       [ 286,    0,   33, 1477,    4],\n",
       "       [   0,    0,    0,    0,    0]], dtype=int64)"
      ]
     },
     "execution_count": 187,
     "metadata": {},
     "output_type": "execute_result"
    }
   ],
   "source": [
    "predictions_train = clf.predict(X_train)\n",
    "accuracy_score_training = accuracy_score(predictions_train,y_train) \n",
    "cm_Train = confusion_matrix(predictions_train,y_train)\n",
    "\n",
    "print( accuracy_score_training)\n",
    "cm_Train"
   ]
  },
  {
   "cell_type": "code",
   "execution_count": 189,
   "metadata": {},
   "outputs": [
    {
     "name": "stdout",
     "output_type": "stream",
     "text": [
      "0.892829457364341\n"
     ]
    },
    {
     "data": {
      "text/plain": [
       "array([[2070,   56,   55,  156,    0],\n",
       "       [  34, 1560,   10,    1,    0],\n",
       "       [  62,   20,  494,   24,    0],\n",
       "       [ 118,    2,   14,  483,    1],\n",
       "       [   0,    0,    0,    0,    0]], dtype=int64)"
      ]
     },
     "execution_count": 189,
     "metadata": {},
     "output_type": "execute_result"
    }
   ],
   "source": [
    "predictions_test = clf.predict(X_test)\n",
    "accuracy_score_testing = accuracy_score(predictions_test,y_test) \n",
    "cm_Test = confusion_matrix(predictions_test,y_test)\n",
    "\n",
    "print( accuracy_score_testing)\n",
    "cm_Test"
   ]
  },
  {
   "cell_type": "markdown",
   "metadata": {},
   "source": [
    "the model above is better by looking at confusion matrix and accuracy we can conclude mlp with low max_iteration and constant default solver and loss function"
   ]
  },
  {
   "cell_type": "markdown",
   "metadata": {},
   "source": [
    "# Discussion\n",
    "\n",
    "Provide an executive summary of your work. In your summary, discuss your model building approach, your results, and the best model. Compare and contrast the three models you built. Also, address any issues of overfitting, etc. if applicable."
   ]
  },
  {
   "cell_type": "markdown",
   "metadata": {},
   "source": [
    "# Summary of model Building :\n",
    " \n",
    " # DNN Model :\n",
    " \n",
    " unable to train due to version difference but solved it out till training stage. need to configure tensorflow in my pc. \n",
    " \n",
    "# Keras DNN :\n",
    " 1) Built A model with somewhat dense architecture with more number of neurons, particularly 4 hidden layers and as it was multiclass classification, used cross entropy as loss function. set up the training time as 60 epochs.\n",
    " \n",
    " Results : \n",
    "   Accuracy on training set : 98%\n",
    "   Accuracy on test set : 92%\n",
    "   \n",
    "   Verdict : overfitting.\n",
    "   \n",
    "   2) So, In order to encounter overfitting, tried to losen the model with a less dense architecture with only one hidden layer (Tried other models too with regularization and dropouts but overfitting persisted) . Also decreasing the overall training time to 35 epochs\n",
    "   \n",
    "   Results:\n",
    "    Accuracy on training set : 91%\n",
    "    Accuracy on test set : 89%\n",
    "  \n",
    "  Verdict : There was some sort of balance for accuracy and validation of model as compared to previous ones.\n",
    "  \n",
    " # MLP Classifier\n",
    " \n",
    " 1) Built a MLP classifier with max iterations of 300 and rest all being default.\n",
    " \n",
    " Results:\n",
    "    \n",
    "   Accuracy on training : 94\n",
    "   Accuracy on testing : 92\n",
    "  \n",
    "  Confusion matrix\n",
    "  \n",
    "       [[6505,  145,   57,  256,    0]\n",
    "  \n",
    "       [  89, 4759,    7,    0,    0],\n",
    "       \n",
    "       [  23,    9, 1604,   22,    0],\n",
    "       \n",
    "       [ 235,    0,   49, 1715,    0]\n",
    "       \n",
    "       [   0,    0,    0,    1,    4]]\n",
    "       \n",
    " \n",
    "  \n",
    "  \n",
    "  Verdict : for multi class classification  this is the best accuracy so far and a good balance y  high accuracy.\n",
    "            Confusion matrix just validates our model.\n",
    "            Crisp Diagonals, Although model is slightly bias towards 0th value in prediction if business is fine with predicting false 0s, it seems like a good model. \n",
    "            \n",
    "  \n",
    "  2) Fine tuned the previous mlp model with max iteration of 600 and stochastic gradient descent as the solver.\n",
    "  \n",
    "  Results: \n",
    "   Training Accuracy: 90\n",
    "   testing accuracy : 89\n",
    "   \n",
    "   Confusion_matrix: \n",
    "   \n",
    "       [6294,  214,  136,  445,    0],\n",
    "       [  80, 4658,   31,    4,    0],\n",
    "       [ 192,   41, 1517,   68,    0],\n",
    "       [ 286,    0,   33, 1477,    4],\n",
    "       [   0,    0,    0,    0,    0]], dtype=int64)\n",
    "\n",
    "   Verdict: Not better than the previous with distorded confusion matrix\n",
    "            "
   ]
  },
  {
   "cell_type": "markdown",
   "metadata": {},
   "source": [
    "# Model Selection\n",
    "\n",
    "I would go With MLP, 1st model "
   ]
  },
  {
   "cell_type": "code",
   "execution_count": 37,
   "metadata": {},
   "outputs": [],
   "source": []
  },
  {
   "cell_type": "code",
   "execution_count": null,
   "metadata": {},
   "outputs": [],
   "source": []
  }
 ],
 "metadata": {
  "kernelspec": {
   "display_name": "Python 3",
   "language": "python",
   "name": "python3"
  },
  "language_info": {
   "codemirror_mode": {
    "name": "ipython",
    "version": 3
   },
   "file_extension": ".py",
   "mimetype": "text/x-python",
   "name": "python",
   "nbconvert_exporter": "python",
   "pygments_lexer": "ipython3",
   "version": "3.7.6"
  }
 },
 "nbformat": 4,
 "nbformat_minor": 2
}
